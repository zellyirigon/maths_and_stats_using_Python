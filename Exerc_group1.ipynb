{
 "cells": [
  {
   "cell_type": "markdown",
   "id": "f588d50b-ffa9-48f9-af40-0ea3bcac4c01",
   "metadata": {},
   "source": [
    "# Math & Statistics applied to Data Science, Machine Learning & AI \n"
   ]
  },
  {
   "cell_type": "markdown",
   "id": "9fb33c47-9803-442c-b591-f24d3aa63ffc",
   "metadata": {},
   "source": [
    "## Exercises "
   ]
  },
  {
   "cell_type": "markdown",
   "id": "42ec0432-6cd2-4b0d-8116-c70f8fe71d69",
   "metadata": {},
   "source": [
    "### 1. Calculating the area of a circle\n",
    "- Write a program that calculates the circle area. The user must give the ray and the program must to return the area."
   ]
  },
  {
   "cell_type": "markdown",
   "id": "15a1fbe1-28b6-417e-934f-732e73535c03",
   "metadata": {},
   "source": [
    "- calculation of the area of a circle:\n",
    "- pi * ray2 -> A = π * r2"
   ]
  },
  {
   "cell_type": "code",
   "execution_count": 36,
   "id": "92b9d329-29dd-4e0f-a6a4-9bbf53ce8527",
   "metadata": {},
   "outputs": [
    {
     "name": "stdin",
     "output_type": "stream",
     "text": [
      "Enter with ray value:  45\n"
     ]
    },
    {
     "name": "stdout",
     "output_type": "stream",
     "text": [
      "The area of the circle: 6361.725123519331\n"
     ]
    }
   ],
   "source": [
    "import math\n",
    "\n",
    "def circle_area(ray):\n",
    "    return math.pi * ray **2\n",
    "    \n",
    "##User input\n",
    "ray = float(input(\"Enter with ray value: \"))\n",
    "\n",
    "\n",
    "print(f'The area of the circle: {circle_area(ray)}')"
   ]
  },
  {
   "cell_type": "markdown",
   "id": "9296860a-1584-4013-8fa6-23f9d370d4f3",
   "metadata": {},
   "source": [
    "### 2. Temperature conversion\n",
    "- Create the function that converts the temperature from Celsius to Fahrenheit and vice-versa. The user must inform the temperature and origin scale."
   ]
  },
  {
   "cell_type": "code",
   "execution_count": 41,
   "id": "76ba2e3f-e2bb-49fd-ba57-063af422a8b6",
   "metadata": {},
   "outputs": [
    {
     "name": "stdin",
     "output_type": "stream",
     "text": [
      "Enter the temperature:  107.6\n",
      "Enter the scale (C to Celsius, F to Fahrenheit):  f\n"
     ]
    },
    {
     "name": "stdout",
     "output_type": "stream",
     "text": [
      "Celsius temperature: 42.0\n"
     ]
    }
   ],
   "source": [
    "## Function\n",
    "def celsius_to_fahrenheit(c):\n",
    "    return (c* 9/5) + 32\n",
    "def fahrenheit_to_celsius(f):\n",
    "    return (f -32) * 5/9\n",
    "\n",
    "## User input\n",
    "temp = float(input('Enter the temperature: '))\n",
    "scale = input('Enter the scale (C to Celsius, F to Fahrenheit): ')\n",
    "\n",
    "##verify if the scale entered in Celsius\n",
    "## upper() - convert to capital letters avoiding error if the user enters with no capital letter\n",
    "if scale.upper() == 'C':\n",
    "    print(f'Fahrenheit temperature: {celsius_to_fahrenheit(temp)}')\n",
    "else:\n",
    "    print(f'Celsius temperature: {fahrenheit_to_celsius(temp)}')\n",
    "\n"
   ]
  },
  {
   "cell_type": "markdown",
   "id": "5daab0a0-0d49-45b5-b0a8-4bc738ed53f8",
   "metadata": {},
   "source": [
    "### 3. Linear Equation\n",
    "- Make a program that solves a linear equation like a*x + b == 0. The values from a and b are given by the user."
   ]
  },
  {
   "cell_type": "code",
   "execution_count": 44,
   "id": "ffe05826-027e-48e4-8282-8f1b631a62c5",
   "metadata": {},
   "outputs": [
    {
     "name": "stdin",
     "output_type": "stream",
     "text": [
      "Enter with 'a' value:  3\n",
      "Enter with 'b' value:  6\n"
     ]
    },
    {
     "name": "stdout",
     "output_type": "stream",
     "text": [
      "Solution: -2.0\n"
     ]
    }
   ],
   "source": [
    "##Function\n",
    "def solve_linear(a,b):\n",
    "    if a ==0:\n",
    "        return 'Without solution' if b != 0 else \"Infinite solutions\"\n",
    "    return -b / a \n",
    "\n",
    "a = float(input(\"Enter with 'a' value: \"))\n",
    "b = float(input(\"Enter with 'b' value: \"))\n",
    "\n",
    "print(f'Solution: {solve_linear(a,b)}')\n",
    "\n"
   ]
  },
  {
   "cell_type": "markdown",
   "id": "485e6cb6-f436-458c-88c2-e6733684860e",
   "metadata": {},
   "source": [
    "### 4. Calculating Arithmetic Average\n",
    "- Write a program that calculates the arithmetic average from a number list given by the user."
   ]
  },
  {
   "cell_type": "code",
   "execution_count": 46,
   "id": "c06e8429-50b3-4aa5-a069-92784fdf9564",
   "metadata": {},
   "outputs": [
    {
     "name": "stdin",
     "output_type": "stream",
     "text": [
      "Enter with your list numbers separated by spaces:  3 2 1 5 6 8 10 15 25 \n"
     ]
    },
    {
     "name": "stdout",
     "output_type": "stream",
     "text": [
      "The arithmetic average from your list is 8.333333333333334.\n"
     ]
    }
   ],
   "source": [
    "def average(numbers):\n",
    "    return sum(numbers) / len(numbers)\n",
    "\n",
    "## Requesting user enter with the number list\n",
    "## Divide the enter string into single elements using split()\n",
    "## Convert each element to float, creating the list of numbers\n",
    "numbers = [float(n) for n in input(\"Enter with your list numbers separated by spaces: \").split()] ##list comprehension\n",
    "\n",
    "\n",
    "print(f'The arithmetic average from your list is {average(numbers)}.')"
   ]
  },
  {
   "cell_type": "markdown",
   "id": "680319c3-1a75-4228-95ac-042910c5d2bf",
   "metadata": {},
   "source": [
    "### 5. Determine the roots of a quadratic equation\n",
    "- Create a program that find the roots of a quadratic equation like ax^2 + bx + c = 0. The program must lead with all kinds of roots(real and complex)."
   ]
  },
  {
   "cell_type": "code",
   "execution_count": 51,
   "id": "bbcf5416-77aa-4f4f-8914-f55c3b9de216",
   "metadata": {},
   "outputs": [
    {
     "name": "stdin",
     "output_type": "stream",
     "text": [
      "Enter the 'a' value:  45\n",
      "Enter the 'b' value:  12\n",
      "Enter the 'c' value:  75\n"
     ]
    },
    {
     "name": "stdout",
     "output_type": "stream",
     "text": [
      "The roots of the quadratic equation are: ((-0.13333333333333333+1.2840906856172147j), (-0.13333333333333333-1.2840906856172147j))\n"
     ]
    }
   ],
   "source": [
    "##Import the mode cmath to math operations with complex numbers\n",
    "import cmath\n",
    "\n",
    "def equation(a,b,c):\n",
    "## Calculate the discriminant (delta) using the form (delta = b^2 -4ac)\n",
    "    delta = cmath.sqrt(b*b - 4*a*c)\n",
    "## Calculate the first root (x1) of quadratic equation using the form : x =(-b + sqrt(delta))/2a\n",
    "    x1 = (-b + delta)/(2*a)\n",
    "\n",
    "## Calculate the second root (x2) of quadratic equation using the form: x =(-b - sqrt(delta))/2a\n",
    "    x2 = (-b -delta)/(2*a)\n",
    "    return (x1,x2)\n",
    "\n",
    "## user input\n",
    "a = float(input(\"Enter the 'a' value: \"))\n",
    "b = float(input(\"Enter the 'b' value: \"))\n",
    "c = float(input(\"Enter the 'c' value: \"))\n",
    "    \n",
    "print(f'The roots of the quadratic equation are: {equation(a,b,c)}')"
   ]
  },
  {
   "cell_type": "markdown",
   "id": "f350c9a9-66d1-43ab-a672-eaaba465ccf3",
   "metadata": {},
   "source": [
    "\n",
    "### Exercise 6: Calculate the Factorial of a Number\n",
    "- Write a function that calculates the factorial of an integer provided by the user"
   ]
  },
  {
   "cell_type": "code",
   "execution_count": 4,
   "id": "e8f71f90-17fe-4182-9dfd-2bdf71a06f5c",
   "metadata": {},
   "outputs": [
    {
     "name": "stdin",
     "output_type": "stream",
     "text": [
      "Enter a number:  7\n"
     ]
    },
    {
     "name": "stdout",
     "output_type": "stream",
     "text": [
      "The factorial of the number 7 is: 5040\n"
     ]
    }
   ],
   "source": [
    "#The factorial of a number is the multiplication of that number by all of its predecessors greater than zero.\n",
    "def factorial_calc(n):\n",
    "    if n ==1:\n",
    "        return 1\n",
    "    else: \n",
    "        # recursive call to the function\n",
    "        return (n * factorial_calc(n -1))\n",
    "\n",
    "n = int(input(\"Enter a number: \"))\n",
    "\n",
    "print(f'The factorial of the number {n} is: {factorial_calc(n)}')"
   ]
  },
  {
   "cell_type": "markdown",
   "id": "50298a20-826f-4355-8837-5c2e73d9a53a",
   "metadata": {},
   "source": [
    "### Exercise 7: Fibonacci Sequence\n",
    "- Create a program that generates the Fibonacci sequence up to a given number 𝑛 provided by the user."
   ]
  },
  {
   "cell_type": "code",
   "execution_count": 56,
   "id": "06b163df-c903-42be-900f-039f47ed5d2c",
   "metadata": {},
   "outputs": [
    {
     "name": "stdin",
     "output_type": "stream",
     "text": [
      "Enter a number to calculate the Fibonnaci 10\n"
     ]
    },
    {
     "name": "stdout",
     "output_type": "stream",
     "text": [
      " Fibonnaci sequenci: [0, 1, 1, 2, 3, 5, 8, 13, 21, 34]\n"
     ]
    }
   ],
   "source": [
    "#The Fibonacci sequence is a numerical sequence in which each term, starting from the third, is the sum of the two preceding ones.\n",
    "def fibonnaci_calc(n):\n",
    "        a, b = 0, 1\n",
    "        for _ in range(n):\n",
    "            # generate the current 'a' value.\n",
    "            yield a\n",
    "            # update the current 'b' value and 'b' receive the sum of before two values of 'a' and 'b'\n",
    "            a, b = b, a + b\n",
    "\n",
    "#User input\n",
    "n = int(input('Enter a number to calculate the Fibonnaci'))\n",
    "\n",
    "        \n",
    "print(f' Fibonnaci sequenci:' , list(fibonnaci_calc(n)))\n",
    "        "
   ]
  },
  {
   "cell_type": "markdown",
   "id": "f9648d7c-e64b-4a84-bcf1-5b2d6093660f",
   "metadata": {},
   "source": [
    "### Exercise 8: Compound Interest Calculation\n",
    "- Write a program that calculates the final amount of an investment with compound interest. The user should provide the initial capital, the annual interest rate, and the number of years."
   ]
  },
  {
   "cell_type": "code",
   "execution_count": 58,
   "id": "70e9bccb-9a0e-4bdb-b776-f37c73924f30",
   "metadata": {},
   "outputs": [
    {
     "name": "stdin",
     "output_type": "stream",
     "text": [
      "Enter the initial capital value 10000\n",
      "Enter the annual interest rate 0.15\n",
      "Enter number of years 3\n"
     ]
    },
    {
     "name": "stdout",
     "output_type": "stream",
     "text": [
      "The total you will pay: $10045.06753375\n"
     ]
    }
   ],
   "source": [
    "def compound_interest(capital,rate,time):\n",
    "    #amount = capital * (pow((1 + rate/100),time))\n",
    "    # or calculating without pow()\n",
    "   return capital * (1 + rate/100)**time\n",
    "    \n",
    "    \n",
    "capital = float(input('Enter the initial capital value'))\n",
    "rate = float(input('Enter the annual interest rate'))\n",
    "time = int(input('Enter number of years'))\n",
    "\n",
    "print(f'The total you will pay: ${compound_interest(capital, rate, time)}')\n",
    "\n",
    "                \n",
    "    "
   ]
  },
  {
   "cell_type": "markdown",
   "id": "4c9a3665-49b4-4815-a640-77d511de6766",
   "metadata": {},
   "source": [
    "### Exercise 9: Currency Conversion\n",
    "- Write a program that converts an amount from one currency (such as dollars) to another (such as euros), using an exchange rate provided by the user."
   ]
  },
  {
   "cell_type": "code",
   "execution_count": 65,
   "id": "175ea564-5115-4691-be16-1d533ce81c22",
   "metadata": {},
   "outputs": [
    {
     "name": "stdin",
     "output_type": "stream",
     "text": [
      "Enter the amount you want to covert:  10\n",
      "Enter the rate:  3.25\n"
     ]
    },
    {
     "name": "stdout",
     "output_type": "stream",
     "text": [
      "The converted amount is: 32.5\n"
     ]
    }
   ],
   "source": [
    "\n",
    "def currency_rates(amount, rate):\n",
    "    return amount * rate\n",
    "\n",
    "amount = float(input('Enter the amount you want to covert: '))\n",
    "rate = float(input('Enter the rate: '))\n",
    "\n",
    "\n",
    "print(f'The converted amount is: {currency_rates(amount, rate)}')\n",
    "\n"
   ]
  },
  {
   "cell_type": "markdown",
   "id": "2b053fd1-5126-4b9d-a05f-b6497e2acaea",
   "metadata": {},
   "source": [
    "\n",
    "### Exercise 10: Check if a Number is Prime\n",
    "- Create a function that checks if a number provided by the user is prime or not."
   ]
  },
  {
   "cell_type": "code",
   "execution_count": 67,
   "id": "cbc4afca-1988-43fa-9907-530b2c018472",
   "metadata": {},
   "outputs": [
    {
     "name": "stdin",
     "output_type": "stream",
     "text": [
      "Enter a number:  7\n"
     ]
    },
    {
     "name": "stdout",
     "output_type": "stream",
     "text": [
      "The number 7 is prime!\n"
     ]
    }
   ],
   "source": [
    "#A positive integer greater than 1 which has no other factors except 1 and the number itself is called a prime number.\n",
    "def is_prime(n):\n",
    "    if n < 2:\n",
    "        return False\n",
    "    \n",
    "    for i in range(2, n):\n",
    "        if (n % i) == 0:\n",
    "            return False\n",
    "        else:\n",
    "            return True\n",
    "\n",
    "n = int(input('Enter a number: '))\n",
    "\n",
    "print(f'The number {n} is prime!' if is_prime(n) else f'The number {n} is NOT prime!' )\n",
    "    "
   ]
  },
  {
   "cell_type": "code",
   "execution_count": 21,
   "id": "e0aca41e-d866-440b-a182-9e5bcb7b44d2",
   "metadata": {},
   "outputs": [
    {
     "name": "stdout",
     "output_type": "stream",
     "text": [
      "Author: Zelly Irigon\n",
      "\n"
     ]
    }
   ],
   "source": [
    "%reload_ext watermark\n",
    "%watermark -a \"Zelly Irigon\""
   ]
  },
  {
   "cell_type": "markdown",
   "id": "8a1f7b3e-e7d5-4eff-b59e-29e7489ae544",
   "metadata": {},
   "source": [
    "## End"
   ]
  },
  {
   "cell_type": "code",
   "execution_count": null,
   "id": "9551fdeb-befd-4973-9a87-6063c0573128",
   "metadata": {},
   "outputs": [],
   "source": []
  }
 ],
 "metadata": {
  "kernelspec": {
   "display_name": "Python 3 (ipykernel)",
   "language": "python",
   "name": "python3"
  },
  "language_info": {
   "codemirror_mode": {
    "name": "ipython",
    "version": 3
   },
   "file_extension": ".py",
   "mimetype": "text/x-python",
   "name": "python",
   "nbconvert_exporter": "python",
   "pygments_lexer": "ipython3",
   "version": "3.11.7"
  }
 },
 "nbformat": 4,
 "nbformat_minor": 5
}
